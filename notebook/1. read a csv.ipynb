{
 "metadata": {
  "name": "",
  "signature": "sha256:e60fd5dd6e149c76a21fd2cb0f4d59f091ed8c2c7a6e713e79df1ef3a729d924"
 },
 "nbformat": 3,
 "nbformat_minor": 0,
 "worksheets": [
  {
   "cells": [
    {
     "cell_type": "markdown",
     "metadata": {},
     "source": [
      "# 0. running this thing\n",
      "\n",
      "    pip install ipython\n",
      "    \n",
      "cd into the notebooks directory and type:\n",
      "\n",
      "    ipython notebook --pylab inline"
     ]
    },
    {
     "cell_type": "markdown",
     "metadata": {},
     "source": [
      "## CSV?\n",
      "CSV (Comma Separated Values) format is the most common import and export format for spreadsheets and databases. A CSV file contains a number of rows, each containing a number of columns separated by commas.\n",
      "\n",
      "In this case I copied a table from [Los Angeles County Population 1850-2010](http://www.laalmanac.com/population/po02.htm), pasted it into Excel, removed the extraneous columns, created headers and saved it as CSV. It's in our repository here: [population_lacounty.csv ](https://github.com/LACMTA/workshop_python-processing/blob/master/data/population_lacounty.csv)\n",
      "\n",
      "Python has a *module* that can read and write CSV format text files. First import the module, load the data file, and print it out to be sure that we have the right data. "
     ]
    },
    {
     "cell_type": "code",
     "collapsed": false,
     "input": [
      "import csv"
     ],
     "language": "python",
     "metadata": {},
     "outputs": [],
     "prompt_number": 1
    },
    {
     "cell_type": "code",
     "collapsed": false,
     "input": [
      "# This is a comment -- Python should ignore it!\n",
      "\n",
      "# Let's open the CSV file and stuff it into a CSV reader object\n",
      "# the 'rU' *argument* tells universal newline mode\n",
      "# it -should- solve cross-platform newline/linefeed problems\n",
      "\n",
      "infile = open(\"../data/population_lacounty.csv\", mode='rU')\n",
      "myreader = csv.reader(infile)"
     ],
     "language": "python",
     "metadata": {},
     "outputs": [],
     "prompt_number": 2
    },
    {
     "cell_type": "code",
     "collapsed": false,
     "input": [
      "# CSV reader object? HELP!\n",
      "\n",
      "help(myreader)"
     ],
     "language": "python",
     "metadata": {},
     "outputs": [
      {
       "output_type": "stream",
       "stream": "stdout",
       "text": [
        "Help on reader object:\n",
        "\n",
        "class reader(__builtin__.object)\n",
        " |  CSV reader\n",
        " |  \n",
        " |  Reader objects are responsible for reading and parsing tabular data\n",
        " |  in CSV format.\n",
        " |  \n",
        " |  Methods defined here:\n",
        " |  \n",
        " |  __iter__(...)\n",
        " |      x.__iter__() <==> iter(x)\n",
        " |  \n",
        " |  next(...)\n",
        " |      x.next() -> the next value, or raise StopIteration\n",
        " |  \n",
        " |  ----------------------------------------------------------------------\n",
        " |  Data descriptors defined here:\n",
        " |  \n",
        " |  dialect\n",
        " |  \n",
        " |  line_num\n",
        "\n"
       ]
      }
     ],
     "prompt_number": 3
    },
    {
     "cell_type": "code",
     "collapsed": false,
     "input": [
      "# did you notice that we asked for help on the object -we- created? \n",
      "# Just checking.\n",
      "\n",
      "# Let's iterate over myreader!\n",
      "for row in myreader:\n",
      "    print row"
     ],
     "language": "python",
     "metadata": {},
     "outputs": [
      {
       "output_type": "stream",
       "stream": "stdout",
       "text": [
        "['year', 'population']\n",
        "['1850', '3530']\n",
        "['1860', '11333']\n",
        "['1870', '15309']\n",
        "['1880', '33381']\n",
        "['1890', '101454']\n",
        "['1900', '170298']\n",
        "['1910', '504131']\n",
        "['1920', '936455']\n",
        "['1930', '2208492']\n",
        "['1940', '2785643']\n",
        "['1950', '4151687']\n",
        "['1960', '6039834']\n",
        "['1970', '7032075']\n",
        "['1980', '7477657']\n",
        "['1990', '8863164']\n",
        "['2000', '9519338']\n",
        "['2010', '9818605']\n"
       ]
      }
     ],
     "prompt_number": 4
    },
    {
     "cell_type": "code",
     "collapsed": false,
     "input": [
      "# the reader is consumed as you loop over it. \n",
      "# Whoa, that's inconvenient! \n",
      "# Let's save it to a data structure this time.\n",
      "\n",
      "infile = open(\"../data/population_lacounty.csv\", mode='rU')\n",
      "myreader = csv.reader(infile)\n",
      "\n",
      "mylist = []\n",
      "blank = {'year':0, 'population':0}\n",
      "for row in myreader:\n",
      "    mylist.append(row)\n",
      "\n",
      "print mylist"
     ],
     "language": "python",
     "metadata": {},
     "outputs": [
      {
       "output_type": "stream",
       "stream": "stdout",
       "text": [
        "[['year', 'population'], ['1850', '3530'], ['1860', '11333'], ['1870', '15309'], ['1880', '33381'], ['1890', '101454'], ['1900', '170298'], ['1910', '504131'], ['1920', '936455'], ['1930', '2208492'], ['1940', '2785643'], ['1950', '4151687'], ['1960', '6039834'], ['1970', '7032075'], ['1980', '7477657'], ['1990', '8863164'], ['2000', '9519338'], ['2010', '9818605']]\n"
       ]
      }
     ],
     "prompt_number": 5
    },
    {
     "cell_type": "markdown",
     "metadata": {},
     "source": [
      "## let's make that look better with pretty print:"
     ]
    },
    {
     "cell_type": "code",
     "collapsed": false,
     "input": [
      "from pprint import pprint\n",
      "\n",
      "pprint(mylist)"
     ],
     "language": "python",
     "metadata": {},
     "outputs": [
      {
       "output_type": "stream",
       "stream": "stdout",
       "text": [
        "[['year', 'population'],\n",
        " ['1850', '3530'],\n",
        " ['1860', '11333'],\n",
        " ['1870', '15309'],\n",
        " ['1880', '33381'],\n",
        " ['1890', '101454'],\n",
        " ['1900', '170298'],\n",
        " ['1910', '504131'],\n",
        " ['1920', '936455'],\n",
        " ['1930', '2208492'],\n",
        " ['1940', '2785643'],\n",
        " ['1950', '4151687'],\n",
        " ['1960', '6039834'],\n",
        " ['1970', '7032075'],\n",
        " ['1980', '7477657'],\n",
        " ['1990', '8863164'],\n",
        " ['2000', '9519338'],\n",
        " ['2010', '9818605']]\n"
       ]
      }
     ],
     "prompt_number": 6
    },
    {
     "cell_type": "markdown",
     "metadata": {},
     "source": [
      "## Lists"
     ]
    },
    {
     "cell_type": "markdown",
     "metadata": {},
     "source": [
      "Now that looks like our CSV file with some extra brackets attached. The **[ ]** tells Python to make a *list*. \n",
      "\n",
      "Here is a list with five elements:"
     ]
    },
    {
     "cell_type": "code",
     "collapsed": false,
     "input": [
      "alist = [1,2,3,4,5]"
     ],
     "language": "python",
     "metadata": {},
     "outputs": [],
     "prompt_number": 7
    },
    {
     "cell_type": "markdown",
     "metadata": {},
     "source": [
      "## You can loop over a list:"
     ]
    },
    {
     "cell_type": "code",
     "collapsed": false,
     "input": [
      "for each in alist:\n",
      "    print(each)"
     ],
     "language": "python",
     "metadata": {},
     "outputs": [
      {
       "output_type": "stream",
       "stream": "stdout",
       "text": [
        "1\n",
        "2\n",
        "3\n",
        "4\n",
        "5\n"
       ]
      }
     ],
     "prompt_number": 8
    },
    {
     "cell_type": "markdown",
     "metadata": {},
     "source": [
      "## Let's add donuts!"
     ]
    },
    {
     "cell_type": "code",
     "collapsed": false,
     "input": [
      "for donut in alist:\n",
      "    print(\"%s donuts please!\") %(donut)\n",
      "\n",
      "# print a message with a couple of newlines\n",
      "print(\"\\nWe have a problem with plurals here. \\nExtra Credit question: how would you fix it?\")"
     ],
     "language": "python",
     "metadata": {},
     "outputs": [
      {
       "output_type": "stream",
       "stream": "stdout",
       "text": [
        "1 donuts please!\n",
        "2 donuts please!\n",
        "3 donuts please!\n",
        "4 donuts please!\n",
        "5 donuts please!\n",
        "\n",
        "We have a problem with plurals here. \n",
        "Extra Credit question: how would you fix it?\n"
       ]
      }
     ],
     "prompt_number": 9
    },
    {
     "cell_type": "markdown",
     "metadata": {},
     "source": [
      "## back to our list"
     ]
    },
    {
     "cell_type": "code",
     "collapsed": false,
     "input": [
      "pprint(mylist)"
     ],
     "language": "python",
     "metadata": {},
     "outputs": [
      {
       "output_type": "stream",
       "stream": "stdout",
       "text": [
        "[['year', 'population'],\n",
        " ['1850', '3530'],\n",
        " ['1860', '11333'],\n",
        " ['1870', '15309'],\n",
        " ['1880', '33381'],\n",
        " ['1890', '101454'],\n",
        " ['1900', '170298'],\n",
        " ['1910', '504131'],\n",
        " ['1920', '936455'],\n",
        " ['1930', '2208492'],\n",
        " ['1940', '2785643'],\n",
        " ['1950', '4151687'],\n",
        " ['1960', '6039834'],\n",
        " ['1970', '7032075'],\n",
        " ['1980', '7477657'],\n",
        " ['1990', '8863164'],\n",
        " ['2000', '9519338'],\n",
        " ['2010', '9818605']]\n"
       ]
      }
     ],
     "prompt_number": 10
    },
    {
     "cell_type": "code",
     "collapsed": false,
     "input": [],
     "language": "python",
     "metadata": {},
     "outputs": [],
     "prompt_number": 10
    },
    {
     "cell_type": "raw",
     "metadata": {},
     "source": [
      "Here we have several lists within a list--one list for each line of the CSV document. This is enough structure to build a table and draw a plot.\n",
      "\n",
      "If you started your notebook with this command:\n",
      "\n",
      "    ipython notebook --pylab inline\n",
      "\n",
      "you got inline charts for free from pylab. Otherwise run this:\n",
      "\n"
     ]
    },
    {
     "cell_type": "code",
     "collapsed": false,
     "input": [
      "%matplotlib inline\n",
      "import matplotlib.pyplot as plt"
     ],
     "language": "python",
     "metadata": {},
     "outputs": [],
     "prompt_number": 11
    },
    {
     "cell_type": "markdown",
     "metadata": {},
     "source": [
      "## time for data massage.\n",
      "\n",
      "We need two lists: one for the years, another for the population counts. Like this:\n",
      "\n",
      "    years = [1850,1860,1870, ... ]\n",
      "    populations = [3530, 11333, 130000, ... ]\n",
      "\n",
      "The easiest way to do that is by looping over the list, grabbing each value and stuffing into a new list.\n",
      "\n",
      "Because lists are *immutable* -- that is the order of the values in a list never changes -- we can grab values from the list *by position.* Example:"
     ]
    },
    {
     "cell_type": "code",
     "collapsed": false,
     "input": [
      "exlist = ['Pteranodon','The Knights who Say Ni']\n",
      "    \n",
      "print(exlist[0])"
     ],
     "language": "python",
     "metadata": {},
     "outputs": [
      {
       "output_type": "stream",
       "stream": "stdout",
       "text": [
        "Pteranodon\n"
       ]
      }
     ],
     "prompt_number": 12
    },
    {
     "cell_type": "code",
     "collapsed": false,
     "input": [
      "print(exlist[1])"
     ],
     "language": "python",
     "metadata": {},
     "outputs": [
      {
       "output_type": "stream",
       "stream": "stdout",
       "text": [
        "The Knights who Say Ni\n"
       ]
      }
     ],
     "prompt_number": 13
    },
    {
     "cell_type": "markdown",
     "metadata": {},
     "source": [
      "## Yes, we start counting at '0' in Python. This is true in most programming languages. Get used to it. "
     ]
    },
    {
     "cell_type": "code",
     "collapsed": false,
     "input": [
      "print(exlist[2])"
     ],
     "language": "python",
     "metadata": {},
     "outputs": [
      {
       "ename": "IndexError",
       "evalue": "list index out of range",
       "output_type": "pyerr",
       "traceback": [
        "\u001b[0;31m---------------------------------------------------------------------------\u001b[0m\n\u001b[0;31mIndexError\u001b[0m                                Traceback (most recent call last)",
        "\u001b[0;32m<ipython-input-14-0f59d2fcfa5e>\u001b[0m in \u001b[0;36m<module>\u001b[0;34m()\u001b[0m\n\u001b[0;32m----> 1\u001b[0;31m \u001b[0;32mprint\u001b[0m\u001b[0;34m(\u001b[0m\u001b[0mexlist\u001b[0m\u001b[0;34m[\u001b[0m\u001b[0;36m2\u001b[0m\u001b[0;34m]\u001b[0m\u001b[0;34m)\u001b[0m\u001b[0;34m\u001b[0m\u001b[0m\n\u001b[0m",
        "\u001b[0;31mIndexError\u001b[0m: list index out of range"
       ]
      }
     ],
     "prompt_number": 14
    },
    {
     "cell_type": "markdown",
     "metadata": {},
     "source": [
      "## Error! \n",
      "\n",
      "Get used to that too. \n",
      "\n",
      "In Python errors give you a [Stack Trace](http://en.wikipedia.org/wiki/Stack_trace) and you read it from the bottom up. In this example the error only has one *exception:* an IndexError. The *index* is the location of the value in a list. Our code *threw* an IndexError when it tried to access a value in the list at position 2. \n",
      "\n",
      "Let's append another value to the end of the list and try again:"
     ]
    },
    {
     "cell_type": "code",
     "collapsed": false,
     "input": [
      "exlist.append(120981203987086976)\n",
      "print(exlist[2])"
     ],
     "language": "python",
     "metadata": {},
     "outputs": [
      {
       "output_type": "stream",
       "stream": "stdout",
       "text": [
        "120981203987086976\n"
       ]
      }
     ],
     "prompt_number": 28
    },
    {
     "cell_type": "code",
     "collapsed": false,
     "input": [
      "years = []\n",
      "populations = []\n",
      "for line in mylist[1:14]:\n",
      "    yr = int(line[0])\n",
      "    years.append(line[0])\n",
      "    populations.append(line[1])\n",
      "\n",
      "print (years)\n",
      "print ('')     # print an empty line\n",
      "print (populations)"
     ],
     "language": "python",
     "metadata": {},
     "outputs": [
      {
       "output_type": "stream",
       "stream": "stdout",
       "text": [
        "['1850', '1860', '1870', '1880', '1890', '1900', '1910', '1920', '1930', '1940', '1950', '1960', '1970']\n",
        "\n",
        "['3530', '11333', '15309', '33381', '101454', '170298', '504131', '936455', '2208492', '2785643', '4151687', '6039834', '7032075']\n"
       ]
      }
     ],
     "prompt_number": 29
    },
    {
     "cell_type": "code",
     "collapsed": false,
     "input": [
      "# a minimal example\n",
      "\n",
      "plt.plot(years, populations, marker='o')\n",
      "\n",
      "plt.grid()\n",
      "plt.show()"
     ],
     "language": "python",
     "metadata": {},
     "outputs": [
      {
       "metadata": {},
       "output_type": "display_data",
       "png": "[encoded data removed]",
       "text": [
        "<matplotlib.figure.Figure at 0x11684bb10>"
       ]
      }
     ],
     "prompt_number": 30
    },
    {
     "cell_type": "code",
     "collapsed": false,
     "input": [
      "# let's add some labels\n",
      "\n",
      "plt.plot(years, populations, marker='o')\n",
      "\n",
      "plt.title('LA County Population 1850-1970')\n",
      "plt.ylabel('Population count')\n",
      "plt.xlabel('Year')\n",
      "\n",
      "\n",
      "plt.grid()\n",
      "plt.show()"
     ],
     "language": "python",
     "metadata": {},
     "outputs": [
      {
       "metadata": {},
       "output_type": "display_data",
       "png": "[encoded data removed]",
       "text": [
        "<matplotlib.figure.Figure at 0x116972910>"
       ]
      }
     ],
     "prompt_number": 31
    },
    {
     "cell_type": "markdown",
     "metadata": {},
     "source": [
      "## how about thousands separators? \n",
      "## now we need to learn about *functions*"
     ]
    },
    {
     "cell_type": "code",
     "collapsed": false,
     "input": [
      "# write a formatting function that \n",
      "# takes tick label and tick position\n",
      "def fmtfunc(label, pos):\n",
      "    # don't forget to cast the label as an integer\n",
      "    s = '{:0,d}'.format( int(label) )\n",
      "    return s"
     ],
     "language": "python",
     "metadata": {},
     "outputs": []
    },
    {
     "cell_type": "code",
     "collapsed": false,
     "input": [
      "# http://nbviewer.ipython.org/github/jakevdp/2013_fall_ASTR599/blob/master/notebooks/12_AdvancedMatplotlib.ipynb\n",
      "\n",
      "import matplotlib.ticker as tkr\n",
      "fig, ax = plt.subplots()  # trick to create a single axes\n",
      "\n",
      "# set up the labels -first-\n",
      "plt.title('LA County Population 1850-1970')\n",
      "plt.ylabel('Population count')\n",
      "plt.xlabel('Year')\n",
      "\n",
      "y_format = tkr.FuncFormatter(fmtfunc)  # make formatter\n",
      "ax.plot(years, populations, marker='o')\n",
      "ax.yaxis.set_major_formatter(y_format) # set formatter to needed axis\n",
      "\n",
      "ax.grid()\n",
      "\n",
      "\n"
     ],
     "language": "python",
     "metadata": {},
     "outputs": [
      {
       "metadata": {},
       "output_type": "display_data",
       "png": "[encoded data removed]",
       "text": [
        "<matplotlib.figure.Figure at 0x116bef310>"
       ]
      }
     ],
     "prompt_number": 66
    },
    {
     "cell_type": "markdown",
     "metadata": {},
     "source": [
      "----"
     ]
    },
    {
     "cell_type": "markdown",
     "metadata": {},
     "source": [
      "Whoa, no semicolons! How does Python know how to group this funtionality? *Indentation.* As Dive Into Mark puts it:\n",
      "\n",
      "> Python functions have no explicit begin or end, and no curly braces to mark where the function code starts and stops. The only delimiter is a colon (:) and the indentation of the code itself.\n",
      "\n",
      "> [Dive Into Python](http://www.diveintopython.net/getting_to_know_python/indenting_code.html)\n",
      "\n",
      "And it's pretty."
     ]
    },
    {
     "cell_type": "markdown",
     "metadata": {},
     "source": [
      "## Introspection\n",
      "\n",
      "One of the most useful features of Python is *Introspection.* As the name implies, we are able to look inside Python entities. "
     ]
    },
    {
     "cell_type": "code",
     "collapsed": false,
     "input": [
      "dir(myreader)"
     ],
     "language": "python",
     "metadata": {},
     "outputs": [
      {
       "metadata": {},
       "output_type": "pyout",
       "prompt_number": 18,
       "text": [
        "['__class__',\n",
        " '__delattr__',\n",
        " '__doc__',\n",
        " '__format__',\n",
        " '__getattribute__',\n",
        " '__hash__',\n",
        " '__init__',\n",
        " '__iter__',\n",
        " '__new__',\n",
        " '__reduce__',\n",
        " '__reduce_ex__',\n",
        " '__repr__',\n",
        " '__setattr__',\n",
        " '__sizeof__',\n",
        " '__str__',\n",
        " '__subclasshook__',\n",
        " 'dialect',\n",
        " 'line_num',\n",
        " 'next']"
       ]
      }
     ],
     "prompt_number": 18
    },
    {
     "cell_type": "code",
     "collapsed": false,
     "input": [
      "\"\"\"Trying Michael Hansen's temperature trend example using Pandas\n",
      "\n",
      "The original example, without Pandas, is available at:\n",
      "http://software-carpentry.org/2012/05/an-exercise-with-matplotlib-and-numpy/\n",
      "\n",
      "\"\"\"\n",
      "import os\n",
      "import pandas\n",
      "import numpy as np\n",
      "import matplotlib.pyplot as pyplot\n",
      "from scipy import stats\n",
      "from datetime import datetime\n",
      "\n",
      "#Thanks to Pandas we don't need to manually deal with all of the date\n",
      "#conversion, so no event2int() or date2int()\n",
      "\n",
      "#We'll also use scipy.stats so that we don't need r_squared()\n",
      "\n",
      "def read_weather(file_name):\n",
      "    #Importing is simpler since Pandas handles the complexity for us\n",
      "    data = pandas.read_csv(file_name, index_col=0, parse_dates=True)\n",
      "    return data\n",
      "\n",
      "def temp_plot(mean_temps, min_temps=None, max_temps=None):\n",
      "    \n",
      "    year_start = datetime(2012, 1, 1)\n",
      "    days = np.array([(d - year_start).days + 1 for d in mean_temps.index])    \n",
      "\n",
      "    fig = pyplot.figure()\n",
      "    pyplot.title('Temperatures in Bloomington 2012')\n",
      "    pyplot.ylabel('Mean Temperature (F)')\n",
      "    pyplot.xlabel('Day of Year')\n",
      "    \n",
      "    if (max_temps is None or min_temps is None):\n",
      "        pyplot.plot(days, mean_temps, marker='o')\n",
      "    else:\n",
      "        temp_err = np.vstack((mean_temps - min_temps,\n",
      "                              max_temps - mean_temps))\n",
      "\n",
      "        pyplot.errorbar(days, mean_temps, marker='o', yerr=temp_err)\n",
      "        pyplot.title('Temperatures in Bloomington 2012 (max/min)')    \n",
      "    \n",
      "    #Use Scipy instead of calculating R^2 by hand\n",
      "    slope, intercept, rval, pval, stderr = stats.linregress(days, mean_temps)\n",
      "    ideal_temps = intercept + (slope * days)\n",
      "    fit_label = 'Linear fit ({0:.3f})'.format(slope)\n",
      "    pyplot.plot(days, ideal_temps, color='red', linestyle='--', label=fit_label)\n",
      "    pyplot.annotate('r^2 = {0:.3f}'.format(rval ** 2), (0.05, 0.9), xycoords='axes fraction')\n",
      "    pyplot.legend(loc='lower right')\n",
      "    \n",
      "    return fig\n",
      "\n",
      "#-------------------------------------------------- \n",
      "\n",
      "# Read data and extract dates, temperatures, and events\n",
      "data = read_weather('data/weather.csv')\n",
      "min_temps = data['Min TemperatureF']\n",
      "mean_temps = data['Mean TemperatureF']\n",
      "max_temps = data['Max TemperatureF']\n",
      "events = data[' Events']\n",
      "\n",
      "if not os.path.exists('plots'):\n",
      "    os.mkdir('plots')\n",
      "\n",
      "# Plot without error bars\n",
      "#In Pandas the temperatures are automatically associated with the dates, so\n",
      "#we can just pass the mean_temps Series object to temp_plot\n",
      "fig = temp_plot(mean_temps)\n",
      "fig.savefig('plots/day_vs_temp.png')\n",
      "\n",
      "# Plot with error bars\n",
      "fig = temp_plot(mean_temps, min_temps, max_temps)\n",
      "fig.savefig('plots/day_vs_temp-all.png')"
     ],
     "language": "python",
     "metadata": {},
     "outputs": [
      {
       "output_type": "stream",
       "stream": "stderr",
       "text": [
        "/usr/local/Cellar/python/2.7.7_2/Frameworks/Python.framework/Versions/2.7/lib/python2.7/site-packages/pandas/io/excel.py:626: UserWarning: Installed openpyxl is not supported at this time. Use >=1.6.1 and <2.0.0.\n",
        "  .format(openpyxl_compat.start_ver, openpyxl_compat.stop_ver))\n"
       ]
      },
      {
       "ename": "IOError",
       "evalue": "File data/weather.csv does not exist",
       "output_type": "pyerr",
       "traceback": [
        "\u001b[0;31m---------------------------------------------------------------------------\u001b[0m\n\u001b[0;31mIOError\u001b[0m                                   Traceback (most recent call last)",
        "\u001b[0;32m<ipython-input-19-1750860c2b59>\u001b[0m in \u001b[0;36m<module>\u001b[0;34m()\u001b[0m\n\u001b[1;32m     54\u001b[0m \u001b[0;34m\u001b[0m\u001b[0m\n\u001b[1;32m     55\u001b[0m \u001b[0;31m# Read data and extract dates, temperatures, and events\u001b[0m\u001b[0;34m\u001b[0m\u001b[0;34m\u001b[0m\u001b[0m\n\u001b[0;32m---> 56\u001b[0;31m \u001b[0mdata\u001b[0m \u001b[0;34m=\u001b[0m \u001b[0mread_weather\u001b[0m\u001b[0;34m(\u001b[0m\u001b[0;34m'data/weather.csv'\u001b[0m\u001b[0;34m)\u001b[0m\u001b[0;34m\u001b[0m\u001b[0m\n\u001b[0m\u001b[1;32m     57\u001b[0m \u001b[0mmin_temps\u001b[0m \u001b[0;34m=\u001b[0m \u001b[0mdata\u001b[0m\u001b[0;34m[\u001b[0m\u001b[0;34m'Min TemperatureF'\u001b[0m\u001b[0;34m]\u001b[0m\u001b[0;34m\u001b[0m\u001b[0m\n\u001b[1;32m     58\u001b[0m \u001b[0mmean_temps\u001b[0m \u001b[0;34m=\u001b[0m \u001b[0mdata\u001b[0m\u001b[0;34m[\u001b[0m\u001b[0;34m'Mean TemperatureF'\u001b[0m\u001b[0;34m]\u001b[0m\u001b[0;34m\u001b[0m\u001b[0m\n",
        "\u001b[0;32m<ipython-input-19-1750860c2b59>\u001b[0m in \u001b[0;36mread_weather\u001b[0;34m(file_name)\u001b[0m\n\u001b[1;32m     19\u001b[0m \u001b[0;32mdef\u001b[0m \u001b[0mread_weather\u001b[0m\u001b[0;34m(\u001b[0m\u001b[0mfile_name\u001b[0m\u001b[0;34m)\u001b[0m\u001b[0;34m:\u001b[0m\u001b[0;34m\u001b[0m\u001b[0m\n\u001b[1;32m     20\u001b[0m     \u001b[0;31m#Importing is simpler since Pandas handles the complexity for us\u001b[0m\u001b[0;34m\u001b[0m\u001b[0;34m\u001b[0m\u001b[0m\n\u001b[0;32m---> 21\u001b[0;31m     \u001b[0mdata\u001b[0m \u001b[0;34m=\u001b[0m \u001b[0mpandas\u001b[0m\u001b[0;34m.\u001b[0m\u001b[0mread_csv\u001b[0m\u001b[0;34m(\u001b[0m\u001b[0mfile_name\u001b[0m\u001b[0;34m,\u001b[0m \u001b[0mindex_col\u001b[0m\u001b[0;34m=\u001b[0m\u001b[0;36m0\u001b[0m\u001b[0;34m,\u001b[0m \u001b[0mparse_dates\u001b[0m\u001b[0;34m=\u001b[0m\u001b[0mTrue\u001b[0m\u001b[0;34m)\u001b[0m\u001b[0;34m\u001b[0m\u001b[0m\n\u001b[0m\u001b[1;32m     22\u001b[0m     \u001b[0;32mreturn\u001b[0m \u001b[0mdata\u001b[0m\u001b[0;34m\u001b[0m\u001b[0m\n\u001b[1;32m     23\u001b[0m \u001b[0;34m\u001b[0m\u001b[0m\n",
        "\u001b[0;32m/usr/local/Cellar/python/2.7.7_2/Frameworks/Python.framework/Versions/2.7/lib/python2.7/site-packages/pandas/io/parsers.pyc\u001b[0m in \u001b[0;36mparser_f\u001b[0;34m(filepath_or_buffer, sep, dialect, compression, doublequote, escapechar, quotechar, quoting, skipinitialspace, lineterminator, header, index_col, names, prefix, skiprows, skipfooter, skip_footer, na_values, na_fvalues, true_values, false_values, delimiter, converters, dtype, usecols, engine, delim_whitespace, as_recarray, na_filter, compact_ints, use_unsigned, low_memory, buffer_lines, warn_bad_lines, error_bad_lines, keep_default_na, thousands, comment, decimal, parse_dates, keep_date_col, dayfirst, date_parser, memory_map, nrows, iterator, chunksize, verbose, encoding, squeeze, mangle_dupe_cols, tupleize_cols, infer_datetime_format)\u001b[0m\n\u001b[1;32m    441\u001b[0m                     infer_datetime_format=infer_datetime_format)\n\u001b[1;32m    442\u001b[0m \u001b[0;34m\u001b[0m\u001b[0m\n\u001b[0;32m--> 443\u001b[0;31m         \u001b[0;32mreturn\u001b[0m \u001b[0m_read\u001b[0m\u001b[0;34m(\u001b[0m\u001b[0mfilepath_or_buffer\u001b[0m\u001b[0;34m,\u001b[0m \u001b[0mkwds\u001b[0m\u001b[0;34m)\u001b[0m\u001b[0;34m\u001b[0m\u001b[0m\n\u001b[0m\u001b[1;32m    444\u001b[0m \u001b[0;34m\u001b[0m\u001b[0m\n\u001b[1;32m    445\u001b[0m     \u001b[0mparser_f\u001b[0m\u001b[0;34m.\u001b[0m\u001b[0m__name__\u001b[0m \u001b[0;34m=\u001b[0m \u001b[0mname\u001b[0m\u001b[0;34m\u001b[0m\u001b[0m\n",
        "\u001b[0;32m/usr/local/Cellar/python/2.7.7_2/Frameworks/Python.framework/Versions/2.7/lib/python2.7/site-packages/pandas/io/parsers.pyc\u001b[0m in \u001b[0;36m_read\u001b[0;34m(filepath_or_buffer, kwds)\u001b[0m\n\u001b[1;32m    226\u001b[0m \u001b[0;34m\u001b[0m\u001b[0m\n\u001b[1;32m    227\u001b[0m     \u001b[0;31m# Create the parser.\u001b[0m\u001b[0;34m\u001b[0m\u001b[0;34m\u001b[0m\u001b[0m\n\u001b[0;32m--> 228\u001b[0;31m     \u001b[0mparser\u001b[0m \u001b[0;34m=\u001b[0m \u001b[0mTextFileReader\u001b[0m\u001b[0;34m(\u001b[0m\u001b[0mfilepath_or_buffer\u001b[0m\u001b[0;34m,\u001b[0m \u001b[0;34m**\u001b[0m\u001b[0mkwds\u001b[0m\u001b[0;34m)\u001b[0m\u001b[0;34m\u001b[0m\u001b[0m\n\u001b[0m\u001b[1;32m    229\u001b[0m \u001b[0;34m\u001b[0m\u001b[0m\n\u001b[1;32m    230\u001b[0m     \u001b[0;32mif\u001b[0m \u001b[0mnrows\u001b[0m \u001b[0;32mis\u001b[0m \u001b[0;32mnot\u001b[0m \u001b[0mNone\u001b[0m\u001b[0;34m:\u001b[0m\u001b[0;34m\u001b[0m\u001b[0m\n",
        "\u001b[0;32m/usr/local/Cellar/python/2.7.7_2/Frameworks/Python.framework/Versions/2.7/lib/python2.7/site-packages/pandas/io/parsers.pyc\u001b[0m in \u001b[0;36m__init__\u001b[0;34m(self, f, engine, **kwds)\u001b[0m\n\u001b[1;32m    531\u001b[0m             \u001b[0mself\u001b[0m\u001b[0;34m.\u001b[0m\u001b[0moptions\u001b[0m\u001b[0;34m[\u001b[0m\u001b[0;34m'has_index_names'\u001b[0m\u001b[0;34m]\u001b[0m \u001b[0;34m=\u001b[0m \u001b[0mkwds\u001b[0m\u001b[0;34m[\u001b[0m\u001b[0;34m'has_index_names'\u001b[0m\u001b[0;34m]\u001b[0m\u001b[0;34m\u001b[0m\u001b[0m\n\u001b[1;32m    532\u001b[0m \u001b[0;34m\u001b[0m\u001b[0m\n\u001b[0;32m--> 533\u001b[0;31m         \u001b[0mself\u001b[0m\u001b[0;34m.\u001b[0m\u001b[0m_make_engine\u001b[0m\u001b[0;34m(\u001b[0m\u001b[0mself\u001b[0m\u001b[0;34m.\u001b[0m\u001b[0mengine\u001b[0m\u001b[0;34m)\u001b[0m\u001b[0;34m\u001b[0m\u001b[0m\n\u001b[0m\u001b[1;32m    534\u001b[0m \u001b[0;34m\u001b[0m\u001b[0m\n\u001b[1;32m    535\u001b[0m     \u001b[0;32mdef\u001b[0m \u001b[0m_get_options_with_defaults\u001b[0m\u001b[0;34m(\u001b[0m\u001b[0mself\u001b[0m\u001b[0;34m,\u001b[0m \u001b[0mengine\u001b[0m\u001b[0;34m)\u001b[0m\u001b[0;34m:\u001b[0m\u001b[0;34m\u001b[0m\u001b[0m\n",
        "\u001b[0;32m/usr/local/Cellar/python/2.7.7_2/Frameworks/Python.framework/Versions/2.7/lib/python2.7/site-packages/pandas/io/parsers.pyc\u001b[0m in \u001b[0;36m_make_engine\u001b[0;34m(self, engine)\u001b[0m\n\u001b[1;32m    668\u001b[0m     \u001b[0;32mdef\u001b[0m \u001b[0m_make_engine\u001b[0m\u001b[0;34m(\u001b[0m\u001b[0mself\u001b[0m\u001b[0;34m,\u001b[0m \u001b[0mengine\u001b[0m\u001b[0;34m=\u001b[0m\u001b[0;34m'c'\u001b[0m\u001b[0;34m)\u001b[0m\u001b[0;34m:\u001b[0m\u001b[0;34m\u001b[0m\u001b[0m\n\u001b[1;32m    669\u001b[0m         \u001b[0;32mif\u001b[0m \u001b[0mengine\u001b[0m \u001b[0;34m==\u001b[0m \u001b[0;34m'c'\u001b[0m\u001b[0;34m:\u001b[0m\u001b[0;34m\u001b[0m\u001b[0m\n\u001b[0;32m--> 670\u001b[0;31m             \u001b[0mself\u001b[0m\u001b[0;34m.\u001b[0m\u001b[0m_engine\u001b[0m \u001b[0;34m=\u001b[0m \u001b[0mCParserWrapper\u001b[0m\u001b[0;34m(\u001b[0m\u001b[0mself\u001b[0m\u001b[0;34m.\u001b[0m\u001b[0mf\u001b[0m\u001b[0;34m,\u001b[0m \u001b[0;34m**\u001b[0m\u001b[0mself\u001b[0m\u001b[0;34m.\u001b[0m\u001b[0moptions\u001b[0m\u001b[0;34m)\u001b[0m\u001b[0;34m\u001b[0m\u001b[0m\n\u001b[0m\u001b[1;32m    671\u001b[0m         \u001b[0;32melse\u001b[0m\u001b[0;34m:\u001b[0m\u001b[0;34m\u001b[0m\u001b[0m\n\u001b[1;32m    672\u001b[0m             \u001b[0;32mif\u001b[0m \u001b[0mengine\u001b[0m \u001b[0;34m==\u001b[0m \u001b[0;34m'python'\u001b[0m\u001b[0;34m:\u001b[0m\u001b[0;34m\u001b[0m\u001b[0m\n",
        "\u001b[0;32m/usr/local/Cellar/python/2.7.7_2/Frameworks/Python.framework/Versions/2.7/lib/python2.7/site-packages/pandas/io/parsers.pyc\u001b[0m in \u001b[0;36m__init__\u001b[0;34m(self, src, **kwds)\u001b[0m\n\u001b[1;32m   1030\u001b[0m         \u001b[0mkwds\u001b[0m\u001b[0;34m[\u001b[0m\u001b[0;34m'allow_leading_cols'\u001b[0m\u001b[0;34m]\u001b[0m \u001b[0;34m=\u001b[0m \u001b[0mself\u001b[0m\u001b[0;34m.\u001b[0m\u001b[0mindex_col\u001b[0m \u001b[0;32mis\u001b[0m \u001b[0;32mnot\u001b[0m \u001b[0mFalse\u001b[0m\u001b[0;34m\u001b[0m\u001b[0m\n\u001b[1;32m   1031\u001b[0m \u001b[0;34m\u001b[0m\u001b[0m\n\u001b[0;32m-> 1032\u001b[0;31m         \u001b[0mself\u001b[0m\u001b[0;34m.\u001b[0m\u001b[0m_reader\u001b[0m \u001b[0;34m=\u001b[0m \u001b[0m_parser\u001b[0m\u001b[0;34m.\u001b[0m\u001b[0mTextReader\u001b[0m\u001b[0;34m(\u001b[0m\u001b[0msrc\u001b[0m\u001b[0;34m,\u001b[0m \u001b[0;34m**\u001b[0m\u001b[0mkwds\u001b[0m\u001b[0;34m)\u001b[0m\u001b[0;34m\u001b[0m\u001b[0m\n\u001b[0m\u001b[1;32m   1033\u001b[0m \u001b[0;34m\u001b[0m\u001b[0m\n\u001b[1;32m   1034\u001b[0m         \u001b[0;31m# XXX\u001b[0m\u001b[0;34m\u001b[0m\u001b[0;34m\u001b[0m\u001b[0m\n",
        "\u001b[0;32m/usr/local/Cellar/python/2.7.7_2/Frameworks/Python.framework/Versions/2.7/lib/python2.7/site-packages/pandas/parser.so\u001b[0m in \u001b[0;36mpandas.parser.TextReader.__cinit__ (pandas/parser.c:3213)\u001b[0;34m()\u001b[0m\n",
        "\u001b[0;32m/usr/local/Cellar/python/2.7.7_2/Frameworks/Python.framework/Versions/2.7/lib/python2.7/site-packages/pandas/parser.so\u001b[0m in \u001b[0;36mpandas.parser.TextReader._setup_parser_source (pandas/parser.c:5595)\u001b[0;34m()\u001b[0m\n",
        "\u001b[0;31mIOError\u001b[0m: File data/weather.csv does not exist"
       ]
      }
     ],
     "prompt_number": 19
    },
    {
     "cell_type": "code",
     "collapsed": false,
     "input": [],
     "language": "python",
     "metadata": {},
     "outputs": []
    }
   ],
   "metadata": {}
  }
 ]
}